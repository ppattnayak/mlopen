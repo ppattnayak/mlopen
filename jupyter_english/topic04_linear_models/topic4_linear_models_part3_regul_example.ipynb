{
 "cells": [
  {
   "cell_type": "markdown",
   "metadata": {},
   "source": [
    "<center>\n",
    "<img src=\"../../img/ods_stickers.jpg\">\n",
    "## Open Machine Learning Course\n",
<<<<<<< HEAD
    "Author: [Yury Kashnitsky](https://www.linkedin.com/in/festline). Translated and edited by Christina Butsko, Nerses Bagiyan, Yulia Klimushina, and [Yuanyuan Pao](https://www.linkedin.com/in/yuanyuanpao/).\n",
=======
    "<center>Author: [Yury Kashnitsky](https://www.linkedin.com/in/festline). Translated and edited by [Christina Butsko](https://www.linkedin.com/in/christinabutsko/), [Nerses Bagiyan](https://www.linkedin.com/in/nersesbagiyan/), [Yulia Klimushina](https://www.linkedin.com/in/yuliya-klimushina-7168a9139), and [Yuanyuan Pao](https://www.linkedin.com/in/yuanyuanpao/).\n",
>>>>>>> upstream
    "\n",
    "This material is subject to the terms and conditions of the license [Creative Commons CC BY-NC-SA 4.0](https://creativecommons.org/licenses/by-nc-sa/4.0/). Free use is permitted for any non-comercial purpose with an obligatory indication of the names of the authors and of the source."
   ]
  },
  {
   "cell_type": "markdown",
   "metadata": {},
   "source": [
    "# <center>Topic 4. Linear Classification and Regression\n",
    "## <center> Part 3. An Illustrative Example of Logistic Regression Regularization"
   ]
  },
  {
   "cell_type": "markdown",
   "metadata": {},
   "source": [
    "In the first article, we demonstrated how polynomial features allow linear models to build nonlinear separating surfaces. Let's now show this visually.\n",
    "\n",
    "Let's see how regularization affects the quality of classification on a dataset on microchip testing from Andrew Ng's course on machine learning. We will use logistic regression with polynomial features and vary the regularization parameter $C$. First, we will see how regularization affects the separating border of the classifier and intuitively recognize under- and overfitting. Then, we will choose the regularization parameter to be numerically close to the optimal value via (`cross-validation`) and (`GridSearch`)."
   ]
  },
  {
   "cell_type": "code",
   "execution_count": 1,
   "metadata": {
    "collapsed": true
   },
   "outputs": [],
   "source": [
    "%matplotlib inline\n",
    "from matplotlib import pyplot as plt\n",
    "import seaborn as sns\n",
    "\n",
    "import numpy as np\n",
    "import pandas as pd\n",
    "from sklearn.preprocessing import PolynomialFeatures\n",
    "from sklearn.linear_model import LogisticRegression, LogisticRegressionCV\n",
    "from sklearn.model_selection import cross_val_score, StratifiedKFold\n",
    "from sklearn.model_selection import GridSearchCV"
   ]
  },
  {
   "cell_type": "markdown",
   "metadata": {},
   "source": [
    "Let's load the data using `read_csv` from the `pandas` library. In this dataset on 118 microchips (objects), there are results for two tests of quality control (two numerical variables) and information whether the microchip went into production. Variables are already centered, meaning that the column values have had their own mean values subtracted. Thus, the \"average\" microchip corresponds to a zero value in the test results.  "
   ]
  },
  {
   "cell_type": "code",
   "execution_count": 2,
   "metadata": {},
   "outputs": [
    {
     "name": "stdout",
     "output_type": "stream",
     "text": [
      "<class 'pandas.core.frame.DataFrame'>\n",
      "RangeIndex: 118 entries, 0 to 117\n",
      "Data columns (total 3 columns):\n",
      "test1       118 non-null float64\n",
      "test2       118 non-null float64\n",
      "released    118 non-null int64\n",
      "dtypes: float64(2), int64(1)\n",
      "memory usage: 2.8 KB\n"
     ]
    }
   ],
   "source": [
    "# loading data\n",
    "data = pd.read_csv('../../data/microchip_tests.txt',\n",
    "                   header=None, names = ('test1','test2','released'))\n",
    "# getting some info about dataframe\n",
    "data.info()"
   ]
  },
  {
   "cell_type": "markdown",
   "metadata": {},
   "source": [
    "Let's inspect at the first and last 5 lines."
   ]
  },
  {
   "cell_type": "code",
   "execution_count": 3,
   "metadata": {},
   "outputs": [
    {
     "data": {
      "text/html": [
       "<div>\n",
       "<style>\n",
       "    .dataframe thead tr:only-child th {\n",
       "        text-align: right;\n",
       "    }\n",
       "\n",
       "    .dataframe thead th {\n",
       "        text-align: left;\n",
       "    }\n",
       "\n",
       "    .dataframe tbody tr th {\n",
       "        vertical-align: top;\n",
       "    }\n",
       "</style>\n",
       "<table border=\"1\" class=\"dataframe\">\n",
       "  <thead>\n",
       "    <tr style=\"text-align: right;\">\n",
       "      <th></th>\n",
       "      <th>test1</th>\n",
       "      <th>test2</th>\n",
       "      <th>released</th>\n",
       "    </tr>\n",
       "  </thead>\n",
       "  <tbody>\n",
       "    <tr>\n",
       "      <th>0</th>\n",
       "      <td>0.051267</td>\n",
       "      <td>0.69956</td>\n",
       "      <td>1</td>\n",
       "    </tr>\n",
       "    <tr>\n",
       "      <th>1</th>\n",
       "      <td>-0.092742</td>\n",
       "      <td>0.68494</td>\n",
       "      <td>1</td>\n",
       "    </tr>\n",
       "    <tr>\n",
       "      <th>2</th>\n",
       "      <td>-0.213710</td>\n",
       "      <td>0.69225</td>\n",
       "      <td>1</td>\n",
       "    </tr>\n",
       "    <tr>\n",
       "      <th>3</th>\n",
       "      <td>-0.375000</td>\n",
       "      <td>0.50219</td>\n",
       "      <td>1</td>\n",
       "    </tr>\n",
       "    <tr>\n",
       "      <th>4</th>\n",
       "      <td>-0.513250</td>\n",
       "      <td>0.46564</td>\n",
       "      <td>1</td>\n",
       "    </tr>\n",
       "  </tbody>\n",
       "</table>\n",
       "</div>"
      ],
      "text/plain": [
       "      test1    test2  released\n",
       "0  0.051267  0.69956         1\n",
       "1 -0.092742  0.68494         1\n",
       "2 -0.213710  0.69225         1\n",
       "3 -0.375000  0.50219         1\n",
       "4 -0.513250  0.46564         1"
      ]
     },
     "execution_count": 3,
     "metadata": {},
     "output_type": "execute_result"
    }
   ],
   "source": [
    "data.head(5)"
   ]
  },
  {
   "cell_type": "code",
   "execution_count": 4,
   "metadata": {},
   "outputs": [
    {
     "data": {
      "text/html": [
       "<div>\n",
       "<style>\n",
       "    .dataframe thead tr:only-child th {\n",
       "        text-align: right;\n",
       "    }\n",
       "\n",
       "    .dataframe thead th {\n",
       "        text-align: left;\n",
       "    }\n",
       "\n",
       "    .dataframe tbody tr th {\n",
       "        vertical-align: top;\n",
       "    }\n",
       "</style>\n",
       "<table border=\"1\" class=\"dataframe\">\n",
       "  <thead>\n",
       "    <tr style=\"text-align: right;\">\n",
       "      <th></th>\n",
       "      <th>test1</th>\n",
       "      <th>test2</th>\n",
       "      <th>released</th>\n",
       "    </tr>\n",
       "  </thead>\n",
       "  <tbody>\n",
       "    <tr>\n",
       "      <th>113</th>\n",
       "      <td>-0.720620</td>\n",
       "      <td>0.538740</td>\n",
       "      <td>0</td>\n",
       "    </tr>\n",
       "    <tr>\n",
       "      <th>114</th>\n",
       "      <td>-0.593890</td>\n",
       "      <td>0.494880</td>\n",
       "      <td>0</td>\n",
       "    </tr>\n",
       "    <tr>\n",
       "      <th>115</th>\n",
       "      <td>-0.484450</td>\n",
       "      <td>0.999270</td>\n",
       "      <td>0</td>\n",
       "    </tr>\n",
       "    <tr>\n",
       "      <th>116</th>\n",
       "      <td>-0.006336</td>\n",
       "      <td>0.999270</td>\n",
       "      <td>0</td>\n",
       "    </tr>\n",
       "    <tr>\n",
       "      <th>117</th>\n",
       "      <td>0.632650</td>\n",
       "      <td>-0.030612</td>\n",
       "      <td>0</td>\n",
       "    </tr>\n",
       "  </tbody>\n",
       "</table>\n",
       "</div>"
      ],
      "text/plain": [
       "        test1     test2  released\n",
       "113 -0.720620  0.538740         0\n",
       "114 -0.593890  0.494880         0\n",
       "115 -0.484450  0.999270         0\n",
       "116 -0.006336  0.999270         0\n",
       "117  0.632650 -0.030612         0"
      ]
     },
     "execution_count": 4,
     "metadata": {},
     "output_type": "execute_result"
    }
   ],
   "source": [
    "data.tail(5)"
   ]
  },
  {
   "cell_type": "markdown",
   "metadata": {},
   "source": [
    "Now we should save the training set and the target class labels in separate NumPy arrays."
   ]
  },
  {
   "cell_type": "code",
   "execution_count": 5,
   "metadata": {},
   "outputs": [],
   "source": [
    "X = data.iloc[:,:2].values\n",
    "y = data.iloc[:,2].values"
   ]
  },
  {
   "cell_type": "markdown",
   "metadata": {},
   "source": [
    "As an intermediate step, we can plot the data. Red points correspond to defective chips, green to normal ones."
   ]
  },
  {
   "cell_type": "code",
   "execution_count": 28,
   "metadata": {},
   "outputs": [
    {
     "data": {
      "image/png": "iVBORw0KGgoAAAANSUhEUgAAAZQAAAEWCAYAAABBvWFzAAAABHNCSVQICAgIfAhkiAAAAAlwSFlz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\n",
      "text/plain": [
       "<matplotlib.figure.Figure at 0x2a34964add8>"
      ]
     },
     "metadata": {},
     "output_type": "display_data"
    }
   ],
   "source": [
    "plt.scatter(X[y == 1, 0], X[y == 1, 1], c='green', label='Released')\n",
    "plt.scatter(X[y == 0, 0], X[y == 0, 1], c='red', label='Faulty')\n",
    "plt.xlabel(\"Test 1\")\n",
    "plt.ylabel(\"Test 2\")\n",
    "plt.title('2 tests of microchips. Logit with C=1')\n",
    "plt.legend();"
   ]
  },
  {
   "cell_type": "markdown",
   "metadata": {},
   "source": [
    "Let's define a function to display the separating curve of the classifier."
   ]
  },
  {
   "cell_type": "code",
   "execution_count": 38,
   "metadata": {
    "collapsed": true
   },
   "outputs": [],
   "source": [
    "def plot_boundary(clf, X, y, grid_step=.01, poly_featurizer=None):\n",
    "    x_min, x_max = X[:, 0].min() - .1, X[:, 0].max() + .1\n",
    "    y_min, y_max = X[:, 1].min() - .1, X[:, 1].max() + .1\n",
    "    xx, yy = np.meshgrid(np.arange(x_min, x_max, grid_step),\n",
    "                         np.arange(y_min, y_max, grid_step))\n",
    "\n",
    "\n",
    "    # to every point from [x_min, m_max]x[y_min, y_max]\n",
    "    # we put in correspondence its own color\n",
    "    Z = clf.predict(poly_featurizer.transform(np.c_[xx.ravel(), yy.ravel()]))\n",
    "    Z = Z.reshape(xx.shape)\n",
    "    plt.contour(xx, yy, Z, cmap=plt.cm.Paired)"
   ]
  },
  {
   "cell_type": "markdown",
   "metadata": {},
   "source": [
    "We define the following polynomial features of degree $d$ for two variables $x_1$ and $x_2$:\n",
    "\n",
    "$$\\large \\{x_1^d, x_1^{d-1}x_2, \\ldots x_2^d\\} =  \\{x_1^ix_2^j\\}_{i+j=d, i,j \\in \\mathbb{N}}$$\n",
    "\n",
    "For example, for $d=3$, this will be the following features:\n",
    "\n",
    "$$\\large 1, x_1, x_2,  x_1^2, x_1x_2, x_2^2, x_1^3, x_1^2x_2, x_1x_2^2, x_2^3$$\n",
    "\n",
    "Drawing a Pythagorean Triangle would show how many of these features there will be for $d=4,5...$ and so on.\n",
    "The number of such features is exponentially large, and it can be costly to build polynomial features of large degree (e.g $d=10$) for 100 variables. More importantly, it's not needed. \n"
   ]
  },
  {
   "cell_type": "markdown",
   "metadata": {},
   "source": [
    "We will use `sklearn`'s implementation of logistic regression. So, we create an object that will add polynomial features up to degree 7 to matrix $X$."
   ]
  },
  {
   "cell_type": "code",
   "execution_count": 39,
   "metadata": {
    "collapsed": true
   },
   "outputs": [],
   "source": [
    "poly = PolynomialFeatures(degree=7)\n",
    "X_poly = poly.fit_transform(X)"
   ]
  },
  {
   "cell_type": "code",
   "execution_count": 40,
   "metadata": {},
   "outputs": [
    {
     "data": {
      "text/plain": [
       "(118, 36)"
      ]
     },
     "execution_count": 40,
     "metadata": {},
     "output_type": "execute_result"
    }
   ],
   "source": [
    "X_poly.shape"
   ]
  },
  {
   "cell_type": "markdown",
   "metadata": {},
   "source": [
    "Let's train logistic regression with regularization parameter $C = 10^{-2}$."
   ]
  },
  {
   "cell_type": "code",
   "execution_count": 42,
   "metadata": {},
   "outputs": [
    {
     "name": "stderr",
     "output_type": "stream",
     "text": [
      "C:\\Users\\Priyaranjan\\Anaconda3\\lib\\site-packages\\sklearn\\linear_model\\logistic.py:1228: UserWarning: 'n_jobs' > 1 does not have any effect when 'solver' is set to 'liblinear'. Got 'n_jobs' = -1.\n",
      "  \" = {}.\".format(self.n_jobs))\n"
     ]
    },
    {
     "name": "stdout",
     "output_type": "stream",
     "text": [
      "Accuracy on training set: 0.627\n"
     ]
    },
    {
     "data": {
      "image/png": "iVBORw0KGgoAAAANSUhEUgAAAZQAAAEWCAYAAABBvWFzAAAABHNCSVQICAgIfAhkiAAAAAlwSFlz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\n",
      "text/plain": [
       "<matplotlib.figure.Figure at 0x2a34d66ba20>"
      ]
     },
     "metadata": {},
     "output_type": "display_data"
    }
   ],
   "source": [
    "C = 1e-2\n",
    "logit = LogisticRegression(C=C, n_jobs=-1, random_state=17)\n",
    "logit.fit(X_poly, y)\n",
    "\n",
    "plot_boundary(logit, X, y, grid_step=.01, poly_featurizer=poly)\n",
    "\n",
    "plt.scatter(X[y == 1, 0], X[y == 1, 1], c='green', label='Released')\n",
    "plt.scatter(X[y == 0, 0], X[y == 0, 1], c='red', label='Faulty')\n",
    "plt.xlabel(\"Test 1\")\n",
    "plt.ylabel(\"Test 2\")\n",
    "plt.title('2 tests of microchips. Logit with C=0.01')\n",
    "plt.legend();\n",
    "\n",
    "print(\"Accuracy on training set:\", \n",
    "      round(logit.score(X_poly, y), 3))"
   ]
  },
  {
   "cell_type": "markdown",
   "metadata": {},
   "source": [
    "We could now try increasing $C$ to 1. In doing this, we weaken regularization, and the solution can now have greater values (in absolute value) of model weights than previously. Now the accuracy of the classifier on the training set improves to 0.831."
   ]
  },
  {
   "cell_type": "code",
   "execution_count": 43,
   "metadata": {},
   "outputs": [
    {
     "name": "stdout",
     "output_type": "stream",
     "text": [
      "Accuracy on training set: 0.831\n"
     ]
    },
    {
     "data": {
      "image/png": "iVBORw0KGgoAAAANSUhEUgAAAZQAAAEWCAYAAABBvWFzAAAABHNCSVQICAgIfAhkiAAAAAlwSFlz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\nKGZmVor/AR3/b4AzlCxeAAAAAElFTkSuQmCC\n",
      "text/plain": [
       "<matplotlib.figure.Figure at 0x2a34d66b128>"
      ]
     },
     "metadata": {},
     "output_type": "display_data"
    }
   ],
   "source": [
    "C = 1\n",
    "logit = LogisticRegression(C=C, random_state=17)\n",
    "logit.fit(X_poly, y)\n",
    "\n",
    "plot_boundary(logit, X, y, grid_step=.005, poly_featurizer=poly)\n",
    "\n",
    "plt.scatter(X[y == 1, 0], X[y == 1, 1], c='green', label='Released')\n",
    "plt.scatter(X[y == 0, 0], X[y == 0, 1], c='red', label='Faulty')\n",
    "plt.xlabel(\"Test 1\")\n",
    "plt.ylabel(\"Test 2\")\n",
    "plt.title('2 tests of microchips. Logit with C=1')\n",
    "plt.legend();\n",
    "\n",
    "print(\"Accuracy on training set:\", \n",
    "      round(logit.score(X_poly, y), 3))"
   ]
  },
  {
   "cell_type": "markdown",
   "metadata": {},
   "source": [
    "Then, why don't we increase $C$ even more - up to 10,000? Now, regularization is clearly not strong enough, and we see overfitting. Note that, with $C$=1 and a \"smooth\" boundary, the share of correct answers on the training set is not much lower than here. But one can easily imagine how our second model will work much better on new data."
   ]
  },
  {
   "cell_type": "code",
   "execution_count": 45,
   "metadata": {},
   "outputs": [
    {
     "name": "stdout",
     "output_type": "stream",
     "text": [
      "Accuracy on training set: 0.873\n"
     ]
    },
    {
     "data": {
      "image/png": "iVBORw0KGgoAAAANSUhEUgAAAZQAAAEWCAYAAABBvWFzAAAABHNCSVQICAgIfAhkiAAAAAlwSFlz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\nTkSuQmCC\n",
      "text/plain": [
       "<matplotlib.figure.Figure at 0x2a34d6b2e80>"
      ]
     },
     "metadata": {},
     "output_type": "display_data"
    }
   ],
   "source": [
    "C = 1e4\n",
    "logit = LogisticRegression(C=C, random_state=17)\n",
    "logit.fit(X_poly, y)\n",
    "\n",
    "plot_boundary(logit, X, y, grid_step=.005, poly_featurizer=poly)\n",
    "\n",
    "plt.scatter(X[y == 1, 0], X[y == 1, 1], c='green', label='Released')\n",
    "plt.scatter(X[y == 0, 0], X[y == 0, 1], c='red', label='Faulty')\n",
    "plt.xlabel(\"Test 1\")\n",
    "plt.ylabel(\"Test 2\")\n",
    "plt.title('2 tests of microchips. Logit with C=10000')\n",
    "plt.legend();\n",
    "\n",
    "print(\"Accuracy on training set:\", \n",
    "      round(logit.score(X_poly, y), 3))"
   ]
  },
  {
   "cell_type": "markdown",
   "metadata": {},
   "source": [
    "To discuss the results, let's rewrite the function that is optimized in logistic regression with the form:\n",
    "\n",
    "$$\\large J(X,y,w) = \\mathcal{L} + \\frac{1}{C}||w||^2,$$\n",
    "\n",
    "where\n",
    "\n",
    "- $\\mathcal{L}$ is the logistic loss function summed over the entire dataset\n",
    "- $C$ is the reverse regularization coefficient (the very same $C$ from `sklearn`'s implementation of `LogisticRegression`)"
   ]
  },
  {
   "cell_type": "markdown",
   "metadata": {},
   "source": [
    "**Subtotals**:\n",
    "- the larger the parameter $C$, the more complex the relationships in the data that the model can recover (intuitively $C$ corresponds to the \"complexity\" of the model - model capacity)\n",
    "- if regularization is too strong i.e. the values of $C$ are small, the solution to the problem of minimizing the logistic loss function may be the one where many of the weights are too small or zeroed. The model is also not sufficiently \"penalized\" for errors (i.e. in the function $J$, the sum of the squares of the weights \"outweighs\", and the error $\\mathcal{L}$ can be relatively large). In this case, the model will underfit as we saw in our first case.\n",
    "- on the contrary, if regularization is too weak i.e. the values of $C$ are large, a vector $w$ with high absolute value components can become the solution to the optimization problem. In this case, $\\mathcal{L}$ has a greater contribution to the optimized functional $J$. Loosely speaking, the model is too \"afraid\" to be mistaken on the objects from the training set and will therefore overfit as we saw in the third case.\n",
    "- logistic regression will not \"understand\" (or \"learn\") what value of $C$ to choose as it does with the weights $w$. That is to say, it can not be determined by solving the optimization problem in logistic regression. We have seen a similar situation before -- a decision tree can not \"learn\" what depth limit to choose during the training process. Therefore, $C$ is the a model hyperparameter that is tuned on cross-validation; so is the max_depth in a tree."
   ]
  },
  {
   "cell_type": "markdown",
   "metadata": {},
   "source": [
    "**Regularization parameter tuning**"
   ]
  },
  {
   "cell_type": "markdown",
   "metadata": {},
   "source": [
    "Using this example, let's identify the optimal value of the regularization parameter $C$. This can be done using `LogisticRegressionCV` - a grid search of parameters followed by cross-validation. This class is designed specifically for logistic regression (effective algorithms with well-known search parameters). For an arbitrary model, use `GridSearchCV`, `RandomizedSearchCV`, or special algorithms for hyperparameter optimization such as the one implemented in `hyperopt`."
   ]
  },
  {
   "cell_type": "code",
   "execution_count": 46,
   "metadata": {},
   "outputs": [
    {
     "name": "stderr",
     "output_type": "stream",
     "text": [
      "[Parallel(n_jobs=-1)]: Done   5 out of   5 | elapsed:   13.8s finished\n"
     ]
    },
    {
     "data": {
      "text/plain": [
       "LogisticRegressionCV(Cs=array([  1.00000e-02,   1.02334e-02, ...,   9.77192e+02,   1.00000e+03]),\n",
       "           class_weight=None,\n",
       "           cv=StratifiedKFold(n_splits=5, random_state=17, shuffle=True),\n",
       "           dual=False, fit_intercept=True, intercept_scaling=1.0,\n",
       "           max_iter=100, multi_class='ovr', n_jobs=-1, penalty='l2',\n",
       "           random_state=None, refit=True, scoring=None, solver='lbfgs',\n",
       "           tol=0.0001, verbose=1)"
      ]
     },
     "execution_count": 46,
     "metadata": {},
     "output_type": "execute_result"
    }
   ],
   "source": [
    "skf = StratifiedKFold(n_splits=5, shuffle=True, random_state=17)\n",
    "\n",
    "c_values = np.logspace(-2, 3, 500)\n",
    "\n",
    "logit_searcher = LogisticRegressionCV(Cs=c_values, cv=skf, verbose=1, n_jobs=-1)\n",
    "logit_searcher.fit(X_poly, y)"
   ]
  },
  {
   "cell_type": "code",
   "execution_count": 55,
   "metadata": {},
   "outputs": [
    {
     "data": {
      "text/plain": [
       "array([ 198.8827857])"
      ]
     },
     "execution_count": 55,
     "metadata": {},
     "output_type": "execute_result"
    }
   ],
   "source": [
    "logit_searcher.C_"
   ]
  },
  {
   "cell_type": "markdown",
   "metadata": {},
   "source": [
    "To see how the quality of the model (percentage of correct responses on the training and validation sets) varies with the hyperparameter $C$, we can plot the graph. "
   ]
  },
  {
   "cell_type": "code",
   "execution_count": 56,
   "metadata": {},
   "outputs": [
    {
     "data": {
      "image/png": "iVBORw0KGgoAAAANSUhEUgAAAYsAAAEKCAYAAADjDHn2AAAABHNCSVQICAgIfAhkiAAAAAlwSFlz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\n",
      "text/plain": [
       "<matplotlib.figure.Figure at 0x2a34e03ea90>"
      ]
     },
     "metadata": {},
     "output_type": "display_data"
    }
   ],
   "source": [
    "plt.plot(c_values, np.mean(logit_searcher.scores_[1], axis=0))\n",
    "plt.xlabel('C')\n",
    "plt.ylabel('Mean CV-accuracy');"
   ]
  },
  {
   "cell_type": "markdown",
   "metadata": {},
   "source": [
    "Finally, select the area with the \"best\" values of $C$."
   ]
  },
  {
   "cell_type": "code",
   "execution_count": 57,
   "metadata": {},
   "outputs": [
    {
     "data": {
      "image/png": "iVBORw0KGgoAAAANSUhEUgAAAY4AAAEKCAYAAAAFJbKyAAAABHNCSVQICAgIfAhkiAAAAAlwSFlz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\nAAAAAElFTkSuQmCC\n",
      "text/plain": [
       "<matplotlib.figure.Figure at 0x2a34d6cc4a8>"
      ]
     },
     "metadata": {},
     "output_type": "display_data"
    }
   ],
   "source": [
    "plt.plot(c_values, np.mean(logit_searcher.scores_[1], axis=0))\n",
    "plt.xlabel('C')\n",
    "plt.ylabel('Mean CV-accuracy');\n",
    "plt.xlim((0,10));"
   ]
  },
  {
   "cell_type": "markdown",
   "metadata": {},
   "source": [
    "Recall that these curves are called validation curves. Previously, we built them manually, but sklearn has special methods to construct these that we will use going forward."
   ]
  },
  {
   "cell_type": "markdown",
   "metadata": {},
   "source": [
    "### Useful resources\n",
    "- Medium [\"story\"](https://medium.com/open-machine-learning-course/open-machine-learning-course-topic-4-linear-classification-and-regression-44a41b9b5220) based on this notebook\n",
    "- If you read Russian: an [article](https://habrahabr.ru/company/ods/blog/323890/) on Habrahabr with ~ the same material. And a [lecture](https://youtu.be/oTXGQ-_oqvI) on YouTube\n",
    "- A nice and concise overview of linear models is given in the book [“Deep Learning”](http://www.deeplearningbook.org) (I. Goodfellow, Y. Bengio, and A. Courville).\n",
    "- Linear models are covered practically in every ML book. We recommend “Pattern Recognition and Machine Learning” (C. Bishop) and “Machine Learning: A Probabilistic Perspective” (K. Murphy).\n",
    "- If you prefer a thorough overview of linear model from a statistician’s viewpoint, then look at “The elements of statistical learning” (T. Hastie, R. Tibshirani, and J. Friedman).\n",
    "- The book “Machine Learning in Action” (P. Harrington) will walk you through implementations of classic ML algorithms in pure Python.\n",
    "- [Scikit-learn](http://scikit-learn.org/stable/documentation.html) library. These guys work hard on writing really clear documentation.\n",
    "- Scipy 2017 [scikit-learn tutorial](https://github.com/amueller/scipy-2017-sklearn) by Alex Gramfort and Andreas Mueller.\n",
    "- One more [ML course](https://github.com/diefimov/MTH594_MachineLearning) with very good materials.\n",
    "- [Implementations](https://github.com/rushter/MLAlgorithms) of many ML algorithms. Search for linear regression and logistic regression."
   ]
  }
 ],
 "metadata": {
  "anaconda-cloud": {},
  "kernelspec": {
   "display_name": "Python 3",
   "language": "python",
   "name": "python3"
  },
  "language_info": {
   "codemirror_mode": {
    "name": "ipython",
    "version": 3
   },
   "file_extension": ".py",
   "mimetype": "text/x-python",
   "name": "python",
   "nbconvert_exporter": "python",
   "pygments_lexer": "ipython3",
   "version": "3.6.3"
  }
 },
 "nbformat": 4,
 "nbformat_minor": 2
}
